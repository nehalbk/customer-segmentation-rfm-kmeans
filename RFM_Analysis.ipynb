{
 "cells": [
  {
   "cell_type": "markdown",
   "id": "c75cbf86-1a66-416a-b728-e83135403405",
   "metadata": {},
   "source": [
    "# Customer Segmentation using RFM Analysis\n",
    "##### This project aims to perform customer segmentation using RFM (Recency, Frequency, Monetary) analysis on a retail dataset. The segmentation will help in identifying different groups of customers based on their purchasing behavior.\n"
   ]
  },
  {
   "cell_type": "markdown",
   "id": "82308d9f-7529-4bd7-bb67-39a9c8397ff5",
   "metadata": {},
   "source": [
    "## Imports"
   ]
  },
  {
   "cell_type": "code",
   "execution_count": 411,
   "id": "0e31208f-140c-46e7-87ff-ea48e04993a4",
   "metadata": {},
   "outputs": [],
   "source": [
    "import numpy as np \n",
    "import pandas as pd\n",
    "import matplotlib.pyplot as plt\n",
    "from pandas.plotting import scatter_matrix\n",
    "#%matplotlib inline\n",
    "import seaborn as sns\n",
    "from sklearn.preprocessing import MinMaxScaler\n",
    "from sklearn.cluster import KMeans\n",
    "import matplotlib.pyplot as plt\n",
    "from mpl_toolkits.mplot3d import Axes3D\n",
    "from sklearn.decomposition import PCA\n",
    "\n",
    "import time, warnings\n",
    "import datetime as dt\n",
    "warnings.filterwarnings(\"ignore\")"
   ]
  },
  {
   "cell_type": "markdown",
   "id": "43f80beb-9b73-43d6-8087-4577143d59c9",
   "metadata": {},
   "source": [
    "## Load and Preview Data"
   ]
  },
  {
   "cell_type": "markdown",
   "id": "a27c185e-c322-42dc-b3ad-6819043a9d2b",
   "metadata": {},
   "source": [
    "##### [Link to the dataset](https://www.kaggle.com/datasets/carrie1/ecommerce-data)"
   ]
  },
  {
   "cell_type": "code",
   "execution_count": 412,
   "id": "02fde7be-6f5a-42c7-b621-9d5362edc6e0",
   "metadata": {},
   "outputs": [
    {
     "name": "stdout",
     "output_type": "stream",
     "text": [
      "InvoiceNo              object\n",
      "StockCode              object\n",
      "Description            object\n",
      "Quantity                int32\n",
      "InvoiceDate    datetime64[ns]\n",
      "UnitPrice             float64\n",
      "CustomerID             object\n",
      "Country                object\n",
      "dtype: object\n"
     ]
    }
   ],
   "source": [
    "# Load the data with specified encoding and data types\n",
    "data = pd.read_csv(\n",
    "    './data.csv',\n",
    "    encoding=\"ISO-8859-1\",\n",
    "    dtype={\n",
    "        'CustomerID': str,\n",
    "        'InvoiceNo': str,\n",
    "        'StockCode': str,\n",
    "        'Description': str,\n",
    "        'Quantity': int,\n",
    "        'UnitPrice': float,\n",
    "        'Country': str\n",
    "    },\n",
    "    parse_dates=['InvoiceDate']\n",
    ")\n",
    "\n",
    "# Display the data types to verify\n",
    "print(data.dtypes)"
   ]
  },
  {
   "cell_type": "code",
   "execution_count": 413,
   "id": "a469edfd-a78d-48ae-a23f-885a5d00a1e5",
   "metadata": {},
   "outputs": [
    {
     "data": {
      "text/html": [
       "<div>\n",
       "<style scoped>\n",
       "    .dataframe tbody tr th:only-of-type {\n",
       "        vertical-align: middle;\n",
       "    }\n",
       "\n",
       "    .dataframe tbody tr th {\n",
       "        vertical-align: top;\n",
       "    }\n",
       "\n",
       "    .dataframe thead th {\n",
       "        text-align: right;\n",
       "    }\n",
       "</style>\n",
       "<table border=\"1\" class=\"dataframe\">\n",
       "  <thead>\n",
       "    <tr style=\"text-align: right;\">\n",
       "      <th></th>\n",
       "      <th>InvoiceNo</th>\n",
       "      <th>StockCode</th>\n",
       "      <th>Description</th>\n",
       "      <th>Quantity</th>\n",
       "      <th>InvoiceDate</th>\n",
       "      <th>UnitPrice</th>\n",
       "      <th>CustomerID</th>\n",
       "      <th>Country</th>\n",
       "    </tr>\n",
       "  </thead>\n",
       "  <tbody>\n",
       "    <tr>\n",
       "      <th>0</th>\n",
       "      <td>536365</td>\n",
       "      <td>85123A</td>\n",
       "      <td>WHITE HANGING HEART T-LIGHT HOLDER</td>\n",
       "      <td>6</td>\n",
       "      <td>2010-12-01 08:26:00</td>\n",
       "      <td>2.55</td>\n",
       "      <td>17850</td>\n",
       "      <td>United Kingdom</td>\n",
       "    </tr>\n",
       "    <tr>\n",
       "      <th>1</th>\n",
       "      <td>536365</td>\n",
       "      <td>71053</td>\n",
       "      <td>WHITE METAL LANTERN</td>\n",
       "      <td>6</td>\n",
       "      <td>2010-12-01 08:26:00</td>\n",
       "      <td>3.39</td>\n",
       "      <td>17850</td>\n",
       "      <td>United Kingdom</td>\n",
       "    </tr>\n",
       "    <tr>\n",
       "      <th>2</th>\n",
       "      <td>536365</td>\n",
       "      <td>84406B</td>\n",
       "      <td>CREAM CUPID HEARTS COAT HANGER</td>\n",
       "      <td>8</td>\n",
       "      <td>2010-12-01 08:26:00</td>\n",
       "      <td>2.75</td>\n",
       "      <td>17850</td>\n",
       "      <td>United Kingdom</td>\n",
       "    </tr>\n",
       "    <tr>\n",
       "      <th>3</th>\n",
       "      <td>536365</td>\n",
       "      <td>84029G</td>\n",
       "      <td>KNITTED UNION FLAG HOT WATER BOTTLE</td>\n",
       "      <td>6</td>\n",
       "      <td>2010-12-01 08:26:00</td>\n",
       "      <td>3.39</td>\n",
       "      <td>17850</td>\n",
       "      <td>United Kingdom</td>\n",
       "    </tr>\n",
       "    <tr>\n",
       "      <th>4</th>\n",
       "      <td>536365</td>\n",
       "      <td>84029E</td>\n",
       "      <td>RED WOOLLY HOTTIE WHITE HEART.</td>\n",
       "      <td>6</td>\n",
       "      <td>2010-12-01 08:26:00</td>\n",
       "      <td>3.39</td>\n",
       "      <td>17850</td>\n",
       "      <td>United Kingdom</td>\n",
       "    </tr>\n",
       "  </tbody>\n",
       "</table>\n",
       "</div>"
      ],
      "text/plain": [
       "  InvoiceNo StockCode                          Description  Quantity  \\\n",
       "0    536365    85123A   WHITE HANGING HEART T-LIGHT HOLDER         6   \n",
       "1    536365     71053                  WHITE METAL LANTERN         6   \n",
       "2    536365    84406B       CREAM CUPID HEARTS COAT HANGER         8   \n",
       "3    536365    84029G  KNITTED UNION FLAG HOT WATER BOTTLE         6   \n",
       "4    536365    84029E       RED WOOLLY HOTTIE WHITE HEART.         6   \n",
       "\n",
       "          InvoiceDate  UnitPrice CustomerID         Country  \n",
       "0 2010-12-01 08:26:00       2.55      17850  United Kingdom  \n",
       "1 2010-12-01 08:26:00       3.39      17850  United Kingdom  \n",
       "2 2010-12-01 08:26:00       2.75      17850  United Kingdom  \n",
       "3 2010-12-01 08:26:00       3.39      17850  United Kingdom  \n",
       "4 2010-12-01 08:26:00       3.39      17850  United Kingdom  "
      ]
     },
     "execution_count": 413,
     "metadata": {},
     "output_type": "execute_result"
    }
   ],
   "source": [
    "data.head()"
   ]
  },
  {
   "cell_type": "code",
   "execution_count": 414,
   "id": "cb5eda3b-cfee-40b7-ae4e-c952e0d6b2e2",
   "metadata": {},
   "outputs": [
    {
     "data": {
      "text/html": [
       "<div>\n",
       "<style scoped>\n",
       "    .dataframe tbody tr th:only-of-type {\n",
       "        vertical-align: middle;\n",
       "    }\n",
       "\n",
       "    .dataframe tbody tr th {\n",
       "        vertical-align: top;\n",
       "    }\n",
       "\n",
       "    .dataframe thead th {\n",
       "        text-align: right;\n",
       "    }\n",
       "</style>\n",
       "<table border=\"1\" class=\"dataframe\">\n",
       "  <thead>\n",
       "    <tr style=\"text-align: right;\">\n",
       "      <th></th>\n",
       "      <th>Quantity</th>\n",
       "      <th>InvoiceDate</th>\n",
       "      <th>UnitPrice</th>\n",
       "    </tr>\n",
       "  </thead>\n",
       "  <tbody>\n",
       "    <tr>\n",
       "      <th>count</th>\n",
       "      <td>541909.000000</td>\n",
       "      <td>541909</td>\n",
       "      <td>541909.000000</td>\n",
       "    </tr>\n",
       "    <tr>\n",
       "      <th>mean</th>\n",
       "      <td>9.552250</td>\n",
       "      <td>2011-07-04 13:34:57.156386048</td>\n",
       "      <td>4.611114</td>\n",
       "    </tr>\n",
       "    <tr>\n",
       "      <th>min</th>\n",
       "      <td>-80995.000000</td>\n",
       "      <td>2010-12-01 08:26:00</td>\n",
       "      <td>-11062.060000</td>\n",
       "    </tr>\n",
       "    <tr>\n",
       "      <th>25%</th>\n",
       "      <td>1.000000</td>\n",
       "      <td>2011-03-28 11:34:00</td>\n",
       "      <td>1.250000</td>\n",
       "    </tr>\n",
       "    <tr>\n",
       "      <th>50%</th>\n",
       "      <td>3.000000</td>\n",
       "      <td>2011-07-19 17:17:00</td>\n",
       "      <td>2.080000</td>\n",
       "    </tr>\n",
       "    <tr>\n",
       "      <th>75%</th>\n",
       "      <td>10.000000</td>\n",
       "      <td>2011-10-19 11:27:00</td>\n",
       "      <td>4.130000</td>\n",
       "    </tr>\n",
       "    <tr>\n",
       "      <th>max</th>\n",
       "      <td>80995.000000</td>\n",
       "      <td>2011-12-09 12:50:00</td>\n",
       "      <td>38970.000000</td>\n",
       "    </tr>\n",
       "    <tr>\n",
       "      <th>std</th>\n",
       "      <td>218.081158</td>\n",
       "      <td>NaN</td>\n",
       "      <td>96.759853</td>\n",
       "    </tr>\n",
       "  </tbody>\n",
       "</table>\n",
       "</div>"
      ],
      "text/plain": [
       "            Quantity                    InvoiceDate      UnitPrice\n",
       "count  541909.000000                         541909  541909.000000\n",
       "mean        9.552250  2011-07-04 13:34:57.156386048       4.611114\n",
       "min    -80995.000000            2010-12-01 08:26:00  -11062.060000\n",
       "25%         1.000000            2011-03-28 11:34:00       1.250000\n",
       "50%         3.000000            2011-07-19 17:17:00       2.080000\n",
       "75%        10.000000            2011-10-19 11:27:00       4.130000\n",
       "max     80995.000000            2011-12-09 12:50:00   38970.000000\n",
       "std       218.081158                            NaN      96.759853"
      ]
     },
     "execution_count": 414,
     "metadata": {},
     "output_type": "execute_result"
    }
   ],
   "source": [
    "data.describe()"
   ]
  },
  {
   "cell_type": "markdown",
   "id": "771b4df7-3bca-405d-be7b-d3369f65e0a1",
   "metadata": {},
   "source": [
    "## Data Cleaning"
   ]
  },
  {
   "cell_type": "markdown",
   "id": "7bec0e3b-095b-4007-b31b-29a7a4e1a921",
   "metadata": {},
   "source": [
    "Remove unnecessary columns and handle missing values."
   ]
  },
  {
   "cell_type": "code",
   "execution_count": 415,
   "id": "fdd88455-de0b-4ff9-b6ee-1f6e4b6fdf65",
   "metadata": {},
   "outputs": [],
   "source": [
    "#Drop unnecessary columns and rows with missing values\n",
    "clean_data=data.drop(columns=[\"InvoiceNo\",\"StockCode\",\"Description\"]).dropna()"
   ]
  },
  {
   "cell_type": "code",
   "execution_count": 416,
   "id": "bc5569fa-b5c3-40cc-88bf-e6c3dd9f01c5",
   "metadata": {},
   "outputs": [
    {
     "data": {
      "text/html": [
       "<div>\n",
       "<style scoped>\n",
       "    .dataframe tbody tr th:only-of-type {\n",
       "        vertical-align: middle;\n",
       "    }\n",
       "\n",
       "    .dataframe tbody tr th {\n",
       "        vertical-align: top;\n",
       "    }\n",
       "\n",
       "    .dataframe thead th {\n",
       "        text-align: right;\n",
       "    }\n",
       "</style>\n",
       "<table border=\"1\" class=\"dataframe\">\n",
       "  <thead>\n",
       "    <tr style=\"text-align: right;\">\n",
       "      <th></th>\n",
       "      <th>Quantity</th>\n",
       "      <th>InvoiceDate</th>\n",
       "      <th>UnitPrice</th>\n",
       "    </tr>\n",
       "  </thead>\n",
       "  <tbody>\n",
       "    <tr>\n",
       "      <th>count</th>\n",
       "      <td>406829.000000</td>\n",
       "      <td>406829</td>\n",
       "      <td>406829.000000</td>\n",
       "    </tr>\n",
       "    <tr>\n",
       "      <th>mean</th>\n",
       "      <td>12.061303</td>\n",
       "      <td>2011-07-10 16:30:57.879207424</td>\n",
       "      <td>3.460471</td>\n",
       "    </tr>\n",
       "    <tr>\n",
       "      <th>min</th>\n",
       "      <td>-80995.000000</td>\n",
       "      <td>2010-12-01 08:26:00</td>\n",
       "      <td>0.000000</td>\n",
       "    </tr>\n",
       "    <tr>\n",
       "      <th>25%</th>\n",
       "      <td>2.000000</td>\n",
       "      <td>2011-04-06 15:02:00</td>\n",
       "      <td>1.250000</td>\n",
       "    </tr>\n",
       "    <tr>\n",
       "      <th>50%</th>\n",
       "      <td>5.000000</td>\n",
       "      <td>2011-07-31 11:48:00</td>\n",
       "      <td>1.950000</td>\n",
       "    </tr>\n",
       "    <tr>\n",
       "      <th>75%</th>\n",
       "      <td>12.000000</td>\n",
       "      <td>2011-10-20 13:06:00</td>\n",
       "      <td>3.750000</td>\n",
       "    </tr>\n",
       "    <tr>\n",
       "      <th>max</th>\n",
       "      <td>80995.000000</td>\n",
       "      <td>2011-12-09 12:50:00</td>\n",
       "      <td>38970.000000</td>\n",
       "    </tr>\n",
       "    <tr>\n",
       "      <th>std</th>\n",
       "      <td>248.693370</td>\n",
       "      <td>NaN</td>\n",
       "      <td>69.315162</td>\n",
       "    </tr>\n",
       "  </tbody>\n",
       "</table>\n",
       "</div>"
      ],
      "text/plain": [
       "            Quantity                    InvoiceDate      UnitPrice\n",
       "count  406829.000000                         406829  406829.000000\n",
       "mean       12.061303  2011-07-10 16:30:57.879207424       3.460471\n",
       "min    -80995.000000            2010-12-01 08:26:00       0.000000\n",
       "25%         2.000000            2011-04-06 15:02:00       1.250000\n",
       "50%         5.000000            2011-07-31 11:48:00       1.950000\n",
       "75%        12.000000            2011-10-20 13:06:00       3.750000\n",
       "max     80995.000000            2011-12-09 12:50:00   38970.000000\n",
       "std       248.693370                            NaN      69.315162"
      ]
     },
     "execution_count": 416,
     "metadata": {},
     "output_type": "execute_result"
    }
   ],
   "source": [
    "# Display summary statistics of the cleaned data\n",
    "clean_data.describe()"
   ]
  },
  {
   "cell_type": "markdown",
   "id": "8f29ea63-f491-47e1-8187-d290e9c709a5",
   "metadata": {},
   "source": [
    "## Exploratory Data Analysis\n"
   ]
  },
  {
   "cell_type": "markdown",
   "id": "92759cbe-5818-493a-8753-0b1441e6b7d3",
   "metadata": {},
   "source": [
    "Understand the distribution of the data and identify the most significant market."
   ]
  },
  {
   "cell_type": "markdown",
   "id": "22664750-155b-4176-a035-fa5f7af59c06",
   "metadata": {},
   "source": [
    "### Selecting geography"
   ]
  },
  {
   "cell_type": "code",
   "execution_count": 417,
   "id": "10a3845e-3645-493b-8d88-413c75a942df",
   "metadata": {},
   "outputs": [
    {
     "data": {
      "text/plain": [
       "array(['United Kingdom', 'France', 'Australia', 'Netherlands', 'Germany',\n",
       "       'Norway', 'EIRE', 'Switzerland', 'Spain', 'Poland', 'Portugal',\n",
       "       'Italy', 'Belgium', 'Lithuania', 'Japan', 'Iceland',\n",
       "       'Channel Islands', 'Denmark', 'Cyprus', 'Sweden', 'Austria',\n",
       "       'Israel', 'Finland', 'Greece', 'Singapore', 'Lebanon',\n",
       "       'United Arab Emirates', 'Saudi Arabia', 'Czech Republic', 'Canada',\n",
       "       'Unspecified', 'Brazil', 'USA', 'European Community', 'Bahrain',\n",
       "       'Malta', 'RSA'], dtype=object)"
      ]
     },
     "execution_count": 417,
     "metadata": {},
     "output_type": "execute_result"
    }
   ],
   "source": [
    "# Display unique countries\n",
    "clean_data[\"Country\"].unique()"
   ]
  },
  {
   "cell_type": "code",
   "execution_count": 418,
   "id": "d5119040-8771-4360-af12-262686ff593e",
   "metadata": {},
   "outputs": [],
   "source": [
    "# Group by 'Country' and count the number of occurrences\n",
    "grouped_data = clean_data.groupby('Country').count()\n",
    "\n",
    "# Sort by 'Quantity' column in descending order\n",
    "sorted_data = grouped_data.sort_values(by='Quantity', ascending=False)"
   ]
  },
  {
   "cell_type": "code",
   "execution_count": 419,
   "id": "eabdc1ba-8d55-48e5-93e3-dee39fe3cc42",
   "metadata": {},
   "outputs": [
    {
     "data": {
      "text/html": [
       "<div>\n",
       "<style scoped>\n",
       "    .dataframe tbody tr th:only-of-type {\n",
       "        vertical-align: middle;\n",
       "    }\n",
       "\n",
       "    .dataframe tbody tr th {\n",
       "        vertical-align: top;\n",
       "    }\n",
       "\n",
       "    .dataframe thead th {\n",
       "        text-align: right;\n",
       "    }\n",
       "</style>\n",
       "<table border=\"1\" class=\"dataframe\">\n",
       "  <thead>\n",
       "    <tr style=\"text-align: right;\">\n",
       "      <th></th>\n",
       "      <th>Quantity</th>\n",
       "      <th>InvoiceDate</th>\n",
       "      <th>UnitPrice</th>\n",
       "      <th>CustomerID</th>\n",
       "    </tr>\n",
       "    <tr>\n",
       "      <th>Country</th>\n",
       "      <th></th>\n",
       "      <th></th>\n",
       "      <th></th>\n",
       "      <th></th>\n",
       "    </tr>\n",
       "  </thead>\n",
       "  <tbody>\n",
       "    <tr>\n",
       "      <th>United Kingdom</th>\n",
       "      <td>361878</td>\n",
       "      <td>361878</td>\n",
       "      <td>361878</td>\n",
       "      <td>361878</td>\n",
       "    </tr>\n",
       "    <tr>\n",
       "      <th>Germany</th>\n",
       "      <td>9495</td>\n",
       "      <td>9495</td>\n",
       "      <td>9495</td>\n",
       "      <td>9495</td>\n",
       "    </tr>\n",
       "    <tr>\n",
       "      <th>France</th>\n",
       "      <td>8491</td>\n",
       "      <td>8491</td>\n",
       "      <td>8491</td>\n",
       "      <td>8491</td>\n",
       "    </tr>\n",
       "    <tr>\n",
       "      <th>EIRE</th>\n",
       "      <td>7485</td>\n",
       "      <td>7485</td>\n",
       "      <td>7485</td>\n",
       "      <td>7485</td>\n",
       "    </tr>\n",
       "    <tr>\n",
       "      <th>Spain</th>\n",
       "      <td>2533</td>\n",
       "      <td>2533</td>\n",
       "      <td>2533</td>\n",
       "      <td>2533</td>\n",
       "    </tr>\n",
       "  </tbody>\n",
       "</table>\n",
       "</div>"
      ],
      "text/plain": [
       "                Quantity  InvoiceDate  UnitPrice  CustomerID\n",
       "Country                                                     \n",
       "United Kingdom    361878       361878     361878      361878\n",
       "Germany             9495         9495       9495        9495\n",
       "France              8491         8491       8491        8491\n",
       "EIRE                7485         7485       7485        7485\n",
       "Spain               2533         2533       2533        2533"
      ]
     },
     "execution_count": 419,
     "metadata": {},
     "output_type": "execute_result"
    }
   ],
   "source": [
    "# Display the top countries\n",
    "sorted_data.head()"
   ]
  },
  {
   "cell_type": "code",
   "execution_count": 420,
   "id": "4034ea82-1c8f-4a47-ba72-6e5127e71e48",
   "metadata": {},
   "outputs": [
    {
     "name": "stdout",
     "output_type": "stream",
     "text": [
      "        Quantity         InvoiceDate  UnitPrice CustomerID\n",
      "0              6 2010-12-01 08:26:00       2.55      17850\n",
      "1              6 2010-12-01 08:26:00       3.39      17850\n",
      "2              8 2010-12-01 08:26:00       2.75      17850\n",
      "3              6 2010-12-01 08:26:00       3.39      17850\n",
      "4              6 2010-12-01 08:26:00       3.39      17850\n",
      "...          ...                 ...        ...        ...\n",
      "541889        12 2011-12-09 12:31:00       1.95      15804\n",
      "541890         8 2011-12-09 12:49:00       2.95      13113\n",
      "541891        24 2011-12-09 12:49:00       1.25      13113\n",
      "541892        24 2011-12-09 12:49:00       8.95      13113\n",
      "541893        10 2011-12-09 12:49:00       7.08      13113\n",
      "\n",
      "[361878 rows x 4 columns]\n"
     ]
    }
   ],
   "source": [
    "# Since the highest data comes from the UK, we will focus our analysis on the UK market.\n",
    "#Filter data for 'United Kingdom'\n",
    "uk_data = clean_data[clean_data[\"Country\"] == \"United Kingdom\"]\n",
    "\n",
    "#No need of Country column now\n",
    "uk_data.drop(inplace=True,columns=[\"Country\"])\n",
    "\n",
    "# Display the filtered data\n",
    "print(uk_data)\n"
   ]
  },
  {
   "cell_type": "markdown",
   "id": "d6c291bb-e702-4d16-9a73-c08d0434fdd7",
   "metadata": {},
   "source": [
    "### Recency Analysis"
   ]
  },
  {
   "cell_type": "markdown",
   "id": "51f9bdc8-fede-416f-8801-1b2473a12623",
   "metadata": {},
   "source": [
    "Recency indicates how recently a customer made a purchase."
   ]
  },
  {
   "cell_type": "markdown",
   "id": "190087a9-ed1a-4d6d-a858-856e89eec63d",
   "metadata": {},
   "source": [
    "#### Get the most recent purchase date"
   ]
  },
  {
   "cell_type": "code",
   "execution_count": 421,
   "id": "d0445515-dbc0-45fa-b87e-5b7946abf5b1",
   "metadata": {},
   "outputs": [
    {
     "data": {
      "text/html": [
       "<div>\n",
       "<style scoped>\n",
       "    .dataframe tbody tr th:only-of-type {\n",
       "        vertical-align: middle;\n",
       "    }\n",
       "\n",
       "    .dataframe tbody tr th {\n",
       "        vertical-align: top;\n",
       "    }\n",
       "\n",
       "    .dataframe thead th {\n",
       "        text-align: right;\n",
       "    }\n",
       "</style>\n",
       "<table border=\"1\" class=\"dataframe\">\n",
       "  <thead>\n",
       "    <tr style=\"text-align: right;\">\n",
       "      <th></th>\n",
       "      <th>CustomerID</th>\n",
       "      <th>Recent InvoiceDate</th>\n",
       "    </tr>\n",
       "  </thead>\n",
       "  <tbody>\n",
       "    <tr>\n",
       "      <th>0</th>\n",
       "      <td>12346</td>\n",
       "      <td>2011-01-18 10:17:00</td>\n",
       "    </tr>\n",
       "    <tr>\n",
       "      <th>1</th>\n",
       "      <td>12747</td>\n",
       "      <td>2011-12-07 14:34:00</td>\n",
       "    </tr>\n",
       "    <tr>\n",
       "      <th>2</th>\n",
       "      <td>12748</td>\n",
       "      <td>2011-12-09 12:20:00</td>\n",
       "    </tr>\n",
       "    <tr>\n",
       "      <th>3</th>\n",
       "      <td>12749</td>\n",
       "      <td>2011-12-06 09:56:00</td>\n",
       "    </tr>\n",
       "    <tr>\n",
       "      <th>4</th>\n",
       "      <td>12820</td>\n",
       "      <td>2011-12-06 15:12:00</td>\n",
       "    </tr>\n",
       "  </tbody>\n",
       "</table>\n",
       "</div>"
      ],
      "text/plain": [
       "  CustomerID  Recent InvoiceDate\n",
       "0      12346 2011-01-18 10:17:00\n",
       "1      12747 2011-12-07 14:34:00\n",
       "2      12748 2011-12-09 12:20:00\n",
       "3      12749 2011-12-06 09:56:00\n",
       "4      12820 2011-12-06 15:12:00"
      ]
     },
     "execution_count": 421,
     "metadata": {},
     "output_type": "execute_result"
    }
   ],
   "source": [
    "# Group by CustomerID and aggregate by the maximum InvoiceDate to get the most recent purchase date\n",
    "customer_recency_data = uk_data.groupby('CustomerID').agg({'InvoiceDate': 'max'})\n",
    "\n",
    "# Renaming the columns\n",
    "customer_recency_data.columns = [\"Recent InvoiceDate\"]\n",
    "\n",
    "# Resetting the index to make CustomerID a column\n",
    "customer_recency_data = customer_recency_data.reset_index()\n",
    "\n",
    "# Display the first few rows\n",
    "customer_recency_data.head()"
   ]
  },
  {
   "cell_type": "markdown",
   "id": "95b8f750-01cc-4ac6-8001-73e72275c633",
   "metadata": {},
   "source": [
    "#### Calculate Recency"
   ]
  },
  {
   "cell_type": "markdown",
   "id": "b79c9276-5045-4fe4-84df-0a0945b3de75",
   "metadata": {},
   "source": [
    "Recency is calculated as the number of days since last purchase."
   ]
  },
  {
   "cell_type": "code",
   "execution_count": 422,
   "id": "31a6e541-3b00-4565-b034-dd9804da53cb",
   "metadata": {},
   "outputs": [
    {
     "data": {
      "text/html": [
       "<div>\n",
       "<style scoped>\n",
       "    .dataframe tbody tr th:only-of-type {\n",
       "        vertical-align: middle;\n",
       "    }\n",
       "\n",
       "    .dataframe tbody tr th {\n",
       "        vertical-align: top;\n",
       "    }\n",
       "\n",
       "    .dataframe thead th {\n",
       "        text-align: right;\n",
       "    }\n",
       "</style>\n",
       "<table border=\"1\" class=\"dataframe\">\n",
       "  <thead>\n",
       "    <tr style=\"text-align: right;\">\n",
       "      <th></th>\n",
       "      <th>CustomerID</th>\n",
       "      <th>Recent InvoiceDate</th>\n",
       "      <th>Recency</th>\n",
       "    </tr>\n",
       "  </thead>\n",
       "  <tbody>\n",
       "    <tr>\n",
       "      <th>0</th>\n",
       "      <td>12346</td>\n",
       "      <td>2011-01-18 10:17:00</td>\n",
       "      <td>4877</td>\n",
       "    </tr>\n",
       "    <tr>\n",
       "      <th>1</th>\n",
       "      <td>12747</td>\n",
       "      <td>2011-12-07 14:34:00</td>\n",
       "      <td>4553</td>\n",
       "    </tr>\n",
       "    <tr>\n",
       "      <th>2</th>\n",
       "      <td>12748</td>\n",
       "      <td>2011-12-09 12:20:00</td>\n",
       "      <td>4551</td>\n",
       "    </tr>\n",
       "    <tr>\n",
       "      <th>3</th>\n",
       "      <td>12749</td>\n",
       "      <td>2011-12-06 09:56:00</td>\n",
       "      <td>4555</td>\n",
       "    </tr>\n",
       "    <tr>\n",
       "      <th>4</th>\n",
       "      <td>12820</td>\n",
       "      <td>2011-12-06 15:12:00</td>\n",
       "      <td>4554</td>\n",
       "    </tr>\n",
       "  </tbody>\n",
       "</table>\n",
       "</div>"
      ],
      "text/plain": [
       "  CustomerID  Recent InvoiceDate  Recency\n",
       "0      12346 2011-01-18 10:17:00     4877\n",
       "1      12747 2011-12-07 14:34:00     4553\n",
       "2      12748 2011-12-09 12:20:00     4551\n",
       "3      12749 2011-12-06 09:56:00     4555\n",
       "4      12820 2011-12-06 15:12:00     4554"
      ]
     },
     "execution_count": 422,
     "metadata": {},
     "output_type": "execute_result"
    }
   ],
   "source": [
    "# Calculate the \"Recency\" as the difference between now and \"InvoiceDate\"\n",
    "customer_recency_data[\"Recency\"] = dt.datetime.now() - customer_recency_data[\"Recent InvoiceDate\"]\n",
    "\n",
    "# Extract the number of days from the \"Recency\" timedelta\n",
    "customer_recency_data[\"Recency\"] = customer_recency_data[\"Recency\"].dt.days\n",
    "\n",
    "# Display the first few rows to verify\n",
    "customer_recency_data.head()"
   ]
  },
  {
   "cell_type": "markdown",
   "id": "c7e65ce5-b65e-426f-8f92-0b848efcfdb1",
   "metadata": {},
   "source": [
    "#### Remove outliers"
   ]
  },
  {
   "cell_type": "markdown",
   "id": "afbecedf-9225-46a1-b9b4-e701b456f152",
   "metadata": {},
   "source": [
    "##### Why Remove Outliers in Recency Calculation?\n",
    "+ **Impact on Clustering**: Outliers can skew clustering results, leading to less meaningful clusters.\n",
    "+ **Statistical Measures**: They affect the mean and standard deviation, making data less representative.\n",
    "+ **Normalization and Scaling**: Outliers stretch the scale, reducing the granularity of normalized values.\n",
    "+ **Interpretability**: Removing outliers makes results more interpretable and actionable for business decisions."
   ]
  },
  {
   "cell_type": "code",
   "execution_count": 423,
   "id": "eca16376-eba1-47fc-ac23-b492a26b9c5d",
   "metadata": {},
   "outputs": [
    {
     "name": "stdout",
     "output_type": "stream",
     "text": [
      "  CustomerID  Recent InvoiceDate  Recency\n",
      "0      12346 2011-01-18 10:17:00     4877\n",
      "1      12747 2011-12-07 14:34:00     4553\n",
      "2      12748 2011-12-09 12:20:00     4551\n",
      "3      12749 2011-12-06 09:56:00     4555\n",
      "4      12820 2011-12-06 15:12:00     4554\n"
     ]
    }
   ],
   "source": [
    "# Remove outliers using the interquartile range (IQR)\n",
    "\n",
    "#Calculate the interquartile range (IQR) for Frequency_normalized\n",
    "Q1 = customer_recency_data[\"Recency\"].quantile(0.25)\n",
    "Q3 = customer_recency_data[\"Recency\"].quantile(0.75)\n",
    "IQR = Q3 - Q1\n",
    "\n",
    "# Filter out the data points within the IQR range\n",
    "customer_recency_data = customer_recency_data[(customer_recency_data[\"Recency\"] >= Q1 - 1.5 * IQR) & (customer_recency_data[\"Recency\"] <= Q3 + 1.5 * IQR)]\n",
    "\n",
    "# Display the filtered data\n",
    "print(customer_recency_data.head())\n"
   ]
  },
  {
   "cell_type": "markdown",
   "id": "3f494867-4b91-45ec-a7d5-29e21faef213",
   "metadata": {},
   "source": [
    "#### Normalize Recency"
   ]
  },
  {
   "cell_type": "markdown",
   "id": "b97eba60-cb1d-4ed4-a079-00409eed71b9",
   "metadata": {},
   "source": [
    "##### Why Normalize Recency?\n",
    "\n",
    "- **Equal Weighting**: Normalization ensures that recency has the same scale as frequency and monetary value, giving each component equal importance in the analysis.\n",
    "- **Improved Model Performance**: Normalized data helps clustering algorithms work more effectively by ensuring that all features contribute equally to the distance calculations.\n",
    "- **Consistency**: Normalization brings all values into a common scale, making it easier to compare and interpret results.\n",
    "- **Stability**: It reduces the impact of outliers and extreme values, leading to more stable and reliable analysis outcomes."
   ]
  },
  {
   "cell_type": "code",
   "execution_count": 424,
   "id": "dd467c87-3581-47af-92fc-cff9d53edba9",
   "metadata": {},
   "outputs": [],
   "source": [
    "# Normalize the \"Recency\" column using min-max normalization\n",
    "\n",
    "min_recency=customer_data[\"Recency\"].min()\n",
    "max_recency=customer_data[\"Recency\"].max()\n",
    "\n",
    "# Calculate min-max normalization using apply and lambda function\n",
    "customer_data[\"Recency_normalized\"] = customer_data[\"Recency\"].apply(lambda x: (x - min_recency) / (max_recency - min_recency))\n",
    "\n",
    "#Reverse sacled as lowest difference should be highest value\n",
    "customer_data[\"Recency_normalized\"]=1-customer_data[\"Recency_normalized\"]\n"
   ]
  },
  {
   "cell_type": "code",
   "execution_count": 425,
   "id": "2fbf1bdb-f60b-4f2c-b472-03790d5d7106",
   "metadata": {},
   "outputs": [
    {
     "data": {
      "text/plain": [
       "<seaborn.axisgrid.FacetGrid at 0x2938b4c9790>"
      ]
     },
     "execution_count": 425,
     "metadata": {},
     "output_type": "execute_result"
    },
    {
     "data": {
      "image/png": "[encoded data removed]",
      "text/plain": [
       "<Figure size 500x500 with 1 Axes>"
      ]
     },
     "metadata": {},
     "output_type": "display_data"
    }
   ],
   "source": [
    "# Create a distribution plot for Recency_normalized\n",
    "sns.displot(customer_data[\"Recency_normalized\"], kde=True)"
   ]
  },
  {
   "cell_type": "markdown",
   "id": "620d6843-e48d-42c4-bbeb-48df69563deb",
   "metadata": {},
   "source": [
    "### Frequency"
   ]
  },
  {
   "cell_type": "markdown",
   "id": "78bb34ff-8d00-4de9-bd29-01e4d7edba2f",
   "metadata": {},
   "source": [
    "Frequency indicates how often a customer makes a purchase."
   ]
  },
  {
   "cell_type": "markdown",
   "id": "a944e190-1438-4584-a80e-2d8cc5c83174",
   "metadata": {},
   "source": [
    "#### Calculate Frequency"
   ]
  },
  {
   "cell_type": "code",
   "execution_count": 426,
   "id": "6decb1ca-0d16-478c-947e-8bcfc7401807",
   "metadata": {},
   "outputs": [
    {
     "name": "stdout",
     "output_type": "stream",
     "text": [
      "  CustomerID  Frequency\n",
      "0      12346          2\n",
      "1      12747        103\n",
      "2      12748       4642\n",
      "3      12749        231\n",
      "4      12820         59\n"
     ]
    }
   ],
   "source": [
    "# Grouping by CustomerID and aggregating by count to get frequency\n",
    "customer_freq_data = uk_data.groupby('CustomerID').size().reset_index(name='Frequency')\n",
    "\n",
    "# Displaying the result\n",
    "print(customer_freq_data.head())\n"
   ]
  },
  {
   "cell_type": "markdown",
   "id": "221b579d-79ae-4258-969a-e01c48ddbcd0",
   "metadata": {},
   "source": [
    "#### Remove outliers"
   ]
  },
  {
   "cell_type": "markdown",
   "id": "8830e473-7a5e-42c7-a311-eb20afedc0a1",
   "metadata": {},
   "source": [
    "##### Why Remove Outliers in Recency Calculation?\n",
    "+ **Impact on Clustering**: Outliers can skew clustering results, leading to less meaningful clusters.\n",
    "+ **Statistical Measures**: They affect the mean and standard deviation, making data less representative.\n",
    "+ **Normalization and Scaling**: Outliers stretch the scale, reducing the granularity of normalized values.\n",
    "+ **Interpretability**: Removing outliers makes results more interpretable and actionable for business decisions."
   ]
  },
  {
   "cell_type": "code",
   "execution_count": 427,
   "id": "9ea733e3-826c-4630-b0e8-0cb6cbe9723b",
   "metadata": {},
   "outputs": [
    {
     "name": "stdout",
     "output_type": "stream",
     "text": [
      "  CustomerID  Frequency\n",
      "0      12346          2\n",
      "1      12747        103\n",
      "4      12820         59\n",
      "5      12821          6\n",
      "6      12822         47\n"
     ]
    }
   ],
   "source": [
    "# Calculate the interquartile range (IQR) for Frequency_normalized\n",
    "Q1 = customer_freq_data[\"Frequency\"].quantile(0.25)\n",
    "Q3 = customer_freq_data[\"Frequency\"].quantile(0.75)\n",
    "IQR = Q3 - Q1\n",
    "\n",
    "# Filter out the data points within the IQR range\n",
    "customer_freq_data = customer_freq_data[(customer_freq_data[\"Frequency\"] >= Q1 - 1.5 * IQR) & (customer_freq_data[\"Frequency\"] <= Q3 + 1.5 * IQR)]\n",
    "\n",
    "# Display the filtered data\n",
    "print(customer_freq_data.head())\n"
   ]
  },
  {
   "cell_type": "markdown",
   "id": "01757c2d-da99-4c9a-845e-b716a4eb5036",
   "metadata": {},
   "source": [
    "#### Normalize Recency"
   ]
  },
  {
   "cell_type": "markdown",
   "id": "c9aa87e3-da1d-41f0-a39d-83709eb8e608",
   "metadata": {},
   "source": [
    "##### Why Normalize Frequency?\n",
    "\n",
    "- **Equal Weighting**: Normalization ensures that recency has the same scale as recency and monetary value, giving each component equal importance in the analysis.\n",
    "- **Improved Model Performance**: Normalized data helps clustering algorithms work more effectively by ensuring that all features contribute equally to the distance calculations.\n",
    "- **Consistency**: Normalization brings all values into a common scale, making it easier to compare and interpret results.\n",
    "- **Stability**: It reduces the impact of outliers and extreme values, leading to more stable and reliable analysis outcomes."
   ]
  },
  {
   "cell_type": "code",
   "execution_count": 428,
   "id": "1d597e5c-d3b0-4a8a-8fc7-9c99b1175e79",
   "metadata": {},
   "outputs": [
    {
     "name": "stdout",
     "output_type": "stream",
     "text": [
      "  CustomerID  Frequency  Frequency_normalized\n",
      "0      12346          2              0.004425\n",
      "1      12747        103              0.451327\n",
      "4      12820         59              0.256637\n",
      "5      12821          6              0.022124\n",
      "6      12822         47              0.203540\n"
     ]
    }
   ],
   "source": [
    "# Normalize the \"Frequency\" column using min-max normalization\n",
    "\n",
    "min_freq=customer_freq_data[\"Frequency\"].min()\n",
    "max_freq=customer_freq_data[\"Frequency\"].max()\n",
    "\n",
    "# Calculate min-max normalization using apply and lambda function\n",
    "customer_freq_data[\"Frequency_normalized\"] = customer_freq_data[\"Frequency\"].apply(lambda x: (x - min_freq) / (max_freq - min_freq))\n",
    "\n",
    "print(customer_freq_data.head())"
   ]
  },
  {
   "cell_type": "code",
   "execution_count": 429,
   "id": "0fe454e0-b73c-4673-9253-a06f752a0638",
   "metadata": {},
   "outputs": [
    {
     "data": {
      "text/plain": [
       "<seaborn.axisgrid.FacetGrid at 0x293f96b4ce0>"
      ]
     },
     "execution_count": 429,
     "metadata": {},
     "output_type": "execute_result"
    },
    {
     "data": {
      "image/png": "[encoded data removed]",
      "text/plain": [
       "<Figure size 500x500 with 1 Axes>"
      ]
     },
     "metadata": {},
     "output_type": "display_data"
    }
   ],
   "source": [
    "# Create a distribution plot for Recency_normalized\n",
    "sns.displot(customer_freq_data[\"Frequency_normalized\"], kde=True)"
   ]
  },
  {
   "cell_type": "markdown",
   "id": "6a7bd9ef-5720-47e1-b2a7-34795f376434",
   "metadata": {},
   "source": [
    "### Monetory Value"
   ]
  },
  {
   "cell_type": "markdown",
   "id": "1f930112-157e-473b-bd63-0301121808a6",
   "metadata": {},
   "source": [
    "Monetary value indicates how much money a customer spends."
   ]
  },
  {
   "cell_type": "markdown",
   "id": "c76b821b-f3c9-4b7c-b318-a2fa073bcbf5",
   "metadata": {},
   "source": [
    "#### Calculate Monetary (Monetary Value)"
   ]
  },
  {
   "cell_type": "code",
   "execution_count": 430,
   "id": "5c373d8c-0eb8-4725-bd28-00dcc519ac0a",
   "metadata": {},
   "outputs": [],
   "source": [
    "# Grouping by CustomerID and aggregating by sum of the product of 'UnitPrice' and 'Quantity'\n",
    "customer_monetary_data=[]\n",
    "customer_monetary_data = uk_data[[\"CustomerID\",\"UnitPrice\",\"Quantity\"]]\n",
    "\n",
    "# Creating a new column for the product of 'UnitPrice' and 'Quantity'\n",
    "customer_monetary_data['Total Price'] = customer_monetary_data['UnitPrice'] * customer_monetary_data['Quantity']\n",
    "\n",
    "# Grouping by CustomerID and aggregating by sum Monetary\n",
    "customer_monetary_data = customer_monetary_data.groupby('CustomerID').agg({'Total Price': 'sum'})\n",
    "\n",
    "# Renaming the columns\n",
    "customer_monetary_data.columns = [\"Monetary\"]\n",
    "\n",
    "# Resetting the index to make CustomerID a column\n",
    "customer_monetary_data = customer_monetary_data.reset_index()\n"
   ]
  },
  {
   "cell_type": "code",
   "execution_count": 431,
   "id": "98dc31a1-dbfc-4417-b0c8-0360c4f0e0ac",
   "metadata": {},
   "outputs": [
    {
     "name": "stdout",
     "output_type": "stream",
     "text": [
      "  CustomerID  Monetary\n",
      "0      12346      0.00\n",
      "1      12747   4196.01\n",
      "2      12748  29072.10\n",
      "3      12749   3868.20\n",
      "4      12820    942.34\n",
      "5      12821     92.72\n",
      "6      12822    918.98\n",
      "7      12823   1759.50\n",
      "8      12824    397.12\n",
      "9      12826   1468.12\n"
     ]
    }
   ],
   "source": [
    "# Displaying the result\n",
    "print(customer_monetary_data.head(10))"
   ]
  },
  {
   "cell_type": "markdown",
   "id": "2fa51a1d-336b-4303-b3ee-3c4474a57cc0",
   "metadata": {},
   "source": [
    "#### Remove outliers"
   ]
  },
  {
   "cell_type": "markdown",
   "id": "f14beb9f-363f-4be8-96f8-1715fefeab1f",
   "metadata": {},
   "source": [
    "##### Why Remove Outliers in Monetary Value Calculation?\n",
    "+ **Impact on Clustering**: Outliers can skew clustering results, leading to less meaningful clusters.\n",
    "+ **Statistical Measures**: They affect the mean and standard deviation, making data less representative.\n",
    "+ **Normalization and Scaling**: Outliers stretch the scale, reducing the granularity of normalized values.\n",
    "+ **Interpretability**: Removing outliers makes results more interpretable and actionable for business decisions."
   ]
  },
  {
   "cell_type": "code",
   "execution_count": 432,
   "id": "8c5fff01-5605-467a-ac6e-f5d2627d16bb",
   "metadata": {},
   "outputs": [
    {
     "name": "stdout",
     "output_type": "stream",
     "text": [
      "  CustomerID  Monetary\n",
      "0      12346      0.00\n",
      "4      12820    942.34\n",
      "5      12821     92.72\n",
      "6      12822    918.98\n",
      "7      12823   1759.50\n"
     ]
    }
   ],
   "source": [
    "# Calculate the interquartile range (IQR) for Frequency_normalized\n",
    "Q1 = customer_monetary_data[\"Monetary\"].quantile(0.25)\n",
    "Q3 = customer_monetary_data[\"Monetary\"].quantile(0.75)\n",
    "IQR = Q3 - Q1\n",
    "\n",
    "# Filter out the data points within the IQR range\n",
    "customer_monetary_data = customer_monetary_data[(customer_monetary_data[\"Monetary\"] >= Q1 - 1.5 * IQR) & (customer_monetary_data[\"Monetary\"] <= Q3 + 1.5 * IQR)]\n",
    "\n",
    "# Display the filtered data\n",
    "print(customer_monetary_data.head())\n"
   ]
  },
  {
   "cell_type": "markdown",
   "id": "9f8a0322-7e58-4a8c-a8bc-d8e38eb3d8a4",
   "metadata": {},
   "source": [
    "##### Why Normalize Monetary Value?\n",
    "\n",
    "- **Equal Weighting**: Normalization ensures that recency has the same scale as recency and frequency value, giving each component equal importance in the analysis.\n",
    "- **Improved Model Performance**: Normalized data helps clustering algorithms work more effectively by ensuring that all features contribute equally to the distance calculations.\n",
    "- **Consistency**: Normalization brings all values into a common scale, making it easier to compare and interpret results.\n",
    "- **Stability**: It reduces the impact of outliers and extreme values, leading to more stable and reliable analysis outcomes."
   ]
  },
  {
   "cell_type": "code",
   "execution_count": 433,
   "id": "b4b1c571-f370-4afd-a497-8e01131d5aac",
   "metadata": {},
   "outputs": [
    {
     "name": "stdout",
     "output_type": "stream",
     "text": [
      "  CustomerID  Monetary  Monetary_normalized\n",
      "0      12346      0.00             0.260923\n",
      "4      12820    942.34             0.467162\n",
      "5      12821     92.72             0.281216\n",
      "6      12822    918.98             0.462050\n",
      "7      12823   1759.50             0.646005\n"
     ]
    }
   ],
   "source": [
    "# Normalize the \"Monetary\" column using min-max normalization\n",
    "\n",
    "min_mon=customer_monetary_data[\"Monetary\"].min()\n",
    "max_mon=customer_monetary_data[\"Monetary\"].max()\n",
    "\n",
    "# Calculate min-max normalization using apply and lambda function\n",
    "customer_monetary_data[\"Monetary_normalized\"] = customer_monetary_data[\"Monetary\"].apply(lambda x: (x - min_mon) / (max_mon - min_mon))\n",
    "\n",
    "print(customer_monetary_data.head())"
   ]
  },
  {
   "cell_type": "code",
   "execution_count": 434,
   "id": "ab16316e-0f5e-4443-b53a-444c4a3f0a71",
   "metadata": {},
   "outputs": [
    {
     "data": {
      "text/plain": [
       "<seaborn.axisgrid.FacetGrid at 0x29389e1cce0>"
      ]
     },
     "execution_count": 434,
     "metadata": {},
     "output_type": "execute_result"
    },
    {
     "data": {
      "image/png": "[encoded data removed]",
      "text/plain": [
       "<Figure size 500x500 with 1 Axes>"
      ]
     },
     "metadata": {},
     "output_type": "display_data"
    }
   ],
   "source": [
    "# Create a distribution plot for Recency_normalized\n",
    "sns.displot(customer_monetary_data[\"Monetary_normalized\"], kde=True)"
   ]
  },
  {
   "cell_type": "markdown",
   "id": "e105daa4-1a67-4b69-b900-62350351ede2",
   "metadata": {},
   "source": [
    "### RFM analysis with K Means Clustering"
   ]
  },
  {
   "cell_type": "markdown",
   "id": "421e4f3c-513c-4dca-a580-34bc3740e9c9",
   "metadata": {},
   "source": [
    "#### Create a new dataframe for RFM Values"
   ]
  },
  {
   "cell_type": "code",
   "execution_count": 435,
   "id": "f504c0ce-3c6a-45e6-be0d-d885950d4f04",
   "metadata": {},
   "outputs": [
    {
     "name": "stdout",
     "output_type": "stream",
     "text": [
      "   Recency_normalized  Frequency_normalized  Monetary_normalized\n",
      "0            0.128686              0.004425             0.260923\n",
      "1            0.997319              0.451327                  NaN\n",
      "2            1.000000                   NaN                  NaN\n",
      "3            0.991957                   NaN                  NaN\n",
      "4            0.994638              0.256637             0.467162\n"
     ]
    }
   ],
   "source": [
    "# Combine the normalized columns into a new DataFrame\n",
    "rfm_data = pd.concat([customer_data[\"Recency_normalized\"], customer_freq_data[\"Frequency_normalized\"], customer_monetary_data[\"Monetary_normalized\"]], axis=1)\n",
    "\n",
    "# Display the first few rows of the new DataFrame\n",
    "print(rfm_data.head())\n"
   ]
  },
  {
   "cell_type": "markdown",
   "id": "a75bef86-9ac1-453d-9a97-72b9a642d7a6",
   "metadata": {},
   "source": [
    "#### Delete the NaN Values"
   ]
  },
  {
   "cell_type": "code",
   "execution_count": 436,
   "id": "67e8e1f8-ae02-453b-9844-934f6129abae",
   "metadata": {},
   "outputs": [
    {
     "data": {
      "text/html": [
       "<div>\n",
       "<style scoped>\n",
       "    .dataframe tbody tr th:only-of-type {\n",
       "        vertical-align: middle;\n",
       "    }\n",
       "\n",
       "    .dataframe tbody tr th {\n",
       "        vertical-align: top;\n",
       "    }\n",
       "\n",
       "    .dataframe thead th {\n",
       "        text-align: right;\n",
       "    }\n",
       "</style>\n",
       "<table border=\"1\" class=\"dataframe\">\n",
       "  <thead>\n",
       "    <tr style=\"text-align: right;\">\n",
       "      <th></th>\n",
       "      <th>Recency_normalized</th>\n",
       "      <th>Frequency_normalized</th>\n",
       "      <th>Monetary_normalized</th>\n",
       "    </tr>\n",
       "  </thead>\n",
       "  <tbody>\n",
       "    <tr>\n",
       "      <th>0</th>\n",
       "      <td>0.128686</td>\n",
       "      <td>0.004425</td>\n",
       "      <td>0.260923</td>\n",
       "    </tr>\n",
       "    <tr>\n",
       "      <th>4</th>\n",
       "      <td>0.994638</td>\n",
       "      <td>0.256637</td>\n",
       "      <td>0.467162</td>\n",
       "    </tr>\n",
       "    <tr>\n",
       "      <th>5</th>\n",
       "      <td>0.428954</td>\n",
       "      <td>0.022124</td>\n",
       "      <td>0.281216</td>\n",
       "    </tr>\n",
       "    <tr>\n",
       "      <th>6</th>\n",
       "      <td>0.812332</td>\n",
       "      <td>0.203540</td>\n",
       "      <td>0.462050</td>\n",
       "    </tr>\n",
       "    <tr>\n",
       "      <th>7</th>\n",
       "      <td>0.801609</td>\n",
       "      <td>0.017699</td>\n",
       "      <td>0.646005</td>\n",
       "    </tr>\n",
       "  </tbody>\n",
       "</table>\n",
       "</div>"
      ],
      "text/plain": [
       "   Recency_normalized  Frequency_normalized  Monetary_normalized\n",
       "0            0.128686              0.004425             0.260923\n",
       "4            0.994638              0.256637             0.467162\n",
       "5            0.428954              0.022124             0.281216\n",
       "6            0.812332              0.203540             0.462050\n",
       "7            0.801609              0.017699             0.646005"
      ]
     },
     "execution_count": 436,
     "metadata": {},
     "output_type": "execute_result"
    }
   ],
   "source": [
    "#Remove NaN as the are excluded during individual IQR analysis\n",
    "rfm_data.dropna(inplace=True)\n",
    "rfm_data.head()"
   ]
  },
  {
   "cell_type": "markdown",
   "id": "e7a405fb-7ee3-4c51-9d2d-bebf8fa51416",
   "metadata": {},
   "source": [
    "#### Find optimal number of clusters using elbow method"
   ]
  },
  {
   "cell_type": "code",
   "execution_count": 437,
   "id": "5ee16b0e-2bdc-4d6e-bfa9-107cd6e14242",
   "metadata": {},
   "outputs": [
    {
     "data": {
      "image/png": "[encoded data removed]",
      "text/plain": [
       "<Figure size 800x600 with 1 Axes>"
      ]
     },
     "metadata": {},
     "output_type": "display_data"
    }
   ],
   "source": [
    "#Elbow method to find K value of clusters\n",
    "# Define the range of K values to test\n",
    "k_range = range(1, 11)\n",
    "\n",
    "# Initialize an empty list to store inertia values for each K\n",
    "inertia_values = []\n",
    "\n",
    "# Compute the inertia for each K\n",
    "for k in k_range:\n",
    "    kmeans = KMeans(n_clusters=k, random_state=42)\n",
    "    kmeans.fit(rfm_data)\n",
    "    inertia_values.append(kmeans.inertia_)\n",
    "\n",
    "# Plot the inertia values to find the elbow point\n",
    "plt.figure(figsize=(8, 6))\n",
    "plt.plot(k_range, inertia_values, marker='o')\n",
    "plt.xlabel('Number of clusters (K)')\n",
    "plt.ylabel('Inertia')\n",
    "plt.title('Elbow Method for Optimal K')\n",
    "plt.show()"
   ]
  },
  {
   "cell_type": "markdown",
   "id": "1dfbfaf4-87fe-4bd8-8302-ae0e5204923e",
   "metadata": {},
   "source": [
    "We find that for K=4 we have optimal innertia hence No. of clusters = 4"
   ]
  },
  {
   "cell_type": "markdown",
   "id": "38e85e5f-8bff-4336-8749-26debeb1870a",
   "metadata": {},
   "source": [
    "#### Clustering using K-means"
   ]
  },
  {
   "cell_type": "code",
   "execution_count": 438,
   "id": "a66c1105-681e-429b-bf6f-c06eefb7e2bc",
   "metadata": {},
   "outputs": [
    {
     "name": "stdout",
     "output_type": "stream",
     "text": [
      "   Recency_normalized  Frequency_normalized  Monetary_normalized  Cluster\n",
      "0            0.128686              0.004425             0.260923        1\n",
      "4            0.994638              0.256637             0.467162        0\n",
      "5            0.428954              0.022124             0.281216        1\n",
      "6            0.812332              0.203540             0.462050        2\n",
      "7            0.801609              0.017699             0.646005        2\n"
     ]
    }
   ],
   "source": [
    "#Clustering \n",
    "\n",
    "#Instantiate the KMeans model with 4 clusters\n",
    "kmeans = KMeans(n_clusters=4, random_state=42)\n",
    "\n",
    "# Fit the model to the RFM data\n",
    "kmeans.fit(rfm_data)\n",
    "\n",
    "# Get the cluster labels\n",
    "cluster_labels = kmeans.labels_\n",
    "\n",
    "# Add the cluster labels to the RFM data DataFrame\n",
    "rfm_data['Cluster'] = cluster_labels\n",
    "\n",
    "# Display the first few rows of the RFM data with cluster labels\n",
    "print(rfm_data.head())\n"
   ]
  },
  {
   "cell_type": "markdown",
   "id": "d40d4fed-1217-43a9-9e09-51e38a9d24fc",
   "metadata": {},
   "source": [
    "#### Finding the average value of each cluster"
   ]
  },
  {
   "cell_type": "code",
   "execution_count": 439,
   "id": "0ae038ea-a91c-4359-823f-02deffc32645",
   "metadata": {},
   "outputs": [
    {
     "name": "stdout",
     "output_type": "stream",
     "text": [
      "         Recency_normalized  Frequency_normalized  Monetary_normalized\n",
      "Cluster                                                               \n",
      "0                  0.890118              0.326204             0.527878\n",
      "1                  0.312009              0.098037             0.335881\n",
      "2                  0.848443              0.101792             0.352683\n",
      "3                  0.907420              0.671047             0.690642\n"
     ]
    }
   ],
   "source": [
    "# Grouping by Cluster and calculating the average of each RFM component\n",
    "rfm_data_cluster_avg = rfm_data.groupby('Cluster').agg({\n",
    "    'Recency_normalized': 'mean',\n",
    "    'Frequency_normalized': 'mean',\n",
    "    'Monetary_normalized': 'mean'\n",
    "})\n",
    "\n",
    "# Displaying the result\n",
    "print(rfm_data_cluster_avg)\n"
   ]
  },
  {
   "cell_type": "markdown",
   "id": "87c41e6b-1206-4660-bdbd-367d5622e205",
   "metadata": {},
   "source": [
    "#### Classify clusters into customer segments based on RFM values\n",
    "\n",
    "##### Characteristics:\n",
    "+ **True Friends**: High Recency, High Frequency, High Monetary\n",
    "+ **Butterflies**: High Recency, Low Frequency, High Monetary\n",
    "+ **Barnacles**: High Recency, High Frequency, Low Monetary\n",
    "+ **Strangers**: Low Recency, Low Frequency, Low Monetary\n",
    "\n",
    "##### Cluster analysis:\n",
    "+ **Cluster 0**: High Recency, Moderate Frequency, Moderate Monetary -> Butterflies\n",
    "+ **Cluster 1**: Low Recency, Low Frequency, Low Monetary -> Strangers\n",
    "+ **Cluster 2**: High Recency, Low Frequency, Low Monetary -> Barnacles\n",
    "+ **Cluster 3**: High Recency, High Frequency, High Monetary -> True Friends\n"
   ]
  },
  {
   "cell_type": "code",
   "execution_count": 440,
   "id": "52254541-ac51-408b-adb8-16bc04ddfcd6",
   "metadata": {},
   "outputs": [
    {
     "name": "stdout",
     "output_type": "stream",
     "text": [
      "               Recency  Frequency  Monetary\n",
      "Cluster                                    \n",
      "Butterflies   0.890118   0.326204  0.527878\n",
      "Strangers     0.312009   0.098037  0.335881\n",
      "Barnacles     0.848443   0.101792  0.352683\n",
      "True Friends  0.907420   0.671047  0.690642\n"
     ]
    }
   ],
   "source": [
    "# Renaming the clusters\n",
    "cluster_names = {\n",
    "    0: 'Butterflies',\n",
    "    1: 'Strangers',\n",
    "    2: 'Barnacles',\n",
    "    3: 'True Friends'\n",
    "}\n",
    "rfm_data_cluster_avg.rename(index=cluster_names, inplace=True)\n",
    "\n",
    "# Renaming the column names\n",
    "column_names = {\n",
    "    'Recency_normalized': 'Recency',\n",
    "    'Frequency_normalized': 'Frequency',\n",
    "    'Monetary_normalized': 'Monetary'\n",
    "}\n",
    "rfm_data_cluster_avg.rename(columns=column_names, inplace=True)\n",
    "\n",
    "# Displaying the result\n",
    "print(rfm_data_cluster_avg)\n"
   ]
  },
  {
   "cell_type": "code",
   "execution_count": 441,
   "id": "e0bf693b-8d56-476a-bc4f-886ae0d83373",
   "metadata": {},
   "outputs": [
    {
     "data": {
      "image/png": "[encoded data removed]",
      "text/plain": [
       "<Figure size 1000x800 with 1 Axes>"
      ]
     },
     "metadata": {},
     "output_type": "display_data"
    }
   ],
   "source": [
    "#plot the clusters for visualization\n",
    "\n",
    "# Reduce dimensionality using PCA\n",
    "pca = PCA(n_components=3)\n",
    "rfm_pca = pca.fit_transform(rfm_data)\n",
    "\n",
    "# Plotting the clusters\n",
    "fig = plt.figure(figsize=(10, 8))\n",
    "ax = fig.add_subplot(111, projection='3d')\n",
    "\n",
    "# Scatter plot\n",
    "for cluster in range(4):\n",
    "    ax.scatter(rfm_pca[rfm_data['Cluster'] == cluster][:, 0],\n",
    "               rfm_pca[rfm_data['Cluster'] == cluster][:, 1],\n",
    "               rfm_pca[rfm_data['Cluster'] == cluster][:, 2],\n",
    "               label=cluster_names[cluster])\n",
    "\n",
    "# Set labels and title\n",
    "ax.set_xlabel('Recency')\n",
    "ax.set_ylabel('Frequency')\n",
    "ax.set_zlabel('Monetary')\n",
    "ax.set_title('Clusters Visualization')\n",
    "\n",
    "# Add legend\n",
    "ax.legend()\n",
    "\n",
    "# Show plot\n",
    "plt.show()\n"
   ]
  },
  {
   "cell_type": "markdown",
   "id": "d470017b-e4a6-4977-a582-1ad3e4973389",
   "metadata": {},
   "source": [
    "### Business Strategies for 4 Customer Clusters\n",
    "\n",
    "**1. True Friend :**\n",
    "- **Retention Programs**: Implement loyalty programs to reward their frequent purchases and high spending.\n",
    "- **Exclusive Offers**: Provide early access to new products, special discounts, and exclusive deals.\n",
    "- **Personalized Communication**: Use personalized emails and messages to maintain engagement and show appreciation.\n",
    "- **Feedback**: Regularly seek their feedback to improve products and services.\n",
    "\n",
    "**2. Butterflies:**\n",
    "- **Targeted Promotions**: Offer special promotions and discounts to encourage more frequent purchases.\n",
    "- **Remarketing Campaigns**: Use remarketing strategies to remind them of your brand and products.\n",
    "- **Limited-Time Offers**: Create urgency with limited-time offers to convert their high spending into higher frequency.\n",
    "- **Cross-Selling**: Suggest complementary products to increase purchase frequency.\n",
    "\n",
    "**3. Barnacles :**\n",
    "- **Upselling**: Encourage higher spending through upselling more premium products or services.\n",
    "- **Bundling**: Offer product bundles to increase the average order value.\n",
    "- **Customer Education**: Educate them on the benefits and features of higher-value products.\n",
    "- **Incentives**: Provide incentives for higher spending, such as free shipping or tiered discounts.\n",
    "\n",
    "**4. Strangers :**\n",
    "- **Awareness Campaigns**: Increase brand awareness through marketing campaigns targeting this segment.\n",
    "- **Engagement Strategies**: Engage them with compelling content and offers to spark interest and reactivation.\n",
    "- **Promotions**: Offer attractive promotions and discounts to encourage trial purchases.\n",
    "- **Segment Analysis**: Analyze this segment further to understand their needs and potential barriers to engagement.\n",
    "\n",
    "By tailoring our strategies to the unique characteristics of each cluster, we can optimize customer engagement, satisfaction, and overall business performance."
   ]
  },
  {
   "cell_type": "code",
   "execution_count": null,
   "id": "1bd274ff-bf2b-4e36-a4b5-ffa52896374c",
   "metadata": {},
   "outputs": [],
   "source": []
  }
 ],
 "metadata": {
  "kernelspec": {
   "display_name": "Python 3 (ipykernel)",
   "language": "python",
   "name": "python3"
  },
  "language_info": {
   "codemirror_mode": {
    "name": "ipython",
    "version": 3
   },
   "file_extension": ".py",
   "mimetype": "text/x-python",
   "name": "python",
   "nbconvert_exporter": "python",
   "pygments_lexer": "ipython3",
   "version": "3.12.0"
  }
 },
 "nbformat": 4,
 "nbformat_minor": 5
}
